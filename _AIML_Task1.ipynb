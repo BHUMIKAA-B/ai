{
  "nbformat": 4,
  "nbformat_minor": 0,
  "metadata": {
    "colab": {
      "provenance": [],
      "authorship_tag": "ABX9TyMAkPxw0UyvXvIh+WtlUUon",
      "include_colab_link": true
    },
    "kernelspec": {
      "name": "python3",
      "display_name": "Python 3"
    },
    "language_info": {
      "name": "python"
    }
  },
  "cells": [
    {
      "cell_type": "markdown",
      "metadata": {
        "id": "view-in-github",
        "colab_type": "text"
      },
      "source": [
        "<a href=\"https://colab.research.google.com/github/BHUMIKAA-B/ai/blob/main/_AIML_Task1.ipynb\" target=\"_parent\"><img src=\"https://colab.research.google.com/assets/colab-badge.svg\" alt=\"Open In Colab\"/></a>"
      ]
    },
    {
      "cell_type": "code",
      "execution_count": 5,
      "metadata": {
        "colab": {
          "base_uri": "https://localhost:8080/"
        },
        "id": "hWJPI0it9E_J",
        "outputId": "e4b086a5-f956-492c-e793-d1250a03f54d"
      },
      "outputs": [
        {
          "output_type": "stream",
          "name": "stdout",
          "text": [
            "     PassengerId  Survived  Pclass  \\\n",
            "0              1         0       3   \n",
            "1              2         1       1   \n",
            "2              3         1       3   \n",
            "3              4         1       1   \n",
            "4              5         0       3   \n",
            "..           ...       ...     ...   \n",
            "886          887         0       2   \n",
            "887          888         1       1   \n",
            "888          889         0       3   \n",
            "889          890         1       1   \n",
            "890          891         0       3   \n",
            "\n",
            "                                                  Name     Sex   Age  SibSp  \\\n",
            "0                              Braund, Mr. Owen Harris    male  22.0      1   \n",
            "1    Cumings, Mrs. John Bradley (Florence Briggs Th...  female  38.0      1   \n",
            "2                               Heikkinen, Miss. Laina  female  26.0      0   \n",
            "3         Futrelle, Mrs. Jacques Heath (Lily May Peel)  female  35.0      1   \n",
            "4                             Allen, Mr. William Henry    male  35.0      0   \n",
            "..                                                 ...     ...   ...    ...   \n",
            "886                              Montvila, Rev. Juozas    male  27.0      0   \n",
            "887                       Graham, Miss. Margaret Edith  female  19.0      0   \n",
            "888           Johnston, Miss. Catherine Helen \"Carrie\"  female   NaN      1   \n",
            "889                              Behr, Mr. Karl Howell    male  26.0      0   \n",
            "890                                Dooley, Mr. Patrick    male  32.0      0   \n",
            "\n",
            "     Parch            Ticket     Fare Cabin Embarked  \n",
            "0        0         A/5 21171   7.2500   NaN        S  \n",
            "1        0          PC 17599  71.2833   C85        C  \n",
            "2        0  STON/O2. 3101282   7.9250   NaN        S  \n",
            "3        0            113803  53.1000  C123        S  \n",
            "4        0            373450   8.0500   NaN        S  \n",
            "..     ...               ...      ...   ...      ...  \n",
            "886      0            211536  13.0000   NaN        S  \n",
            "887      0            112053  30.0000   B42        S  \n",
            "888      2        W./C. 6607  23.4500   NaN        S  \n",
            "889      0            111369  30.0000  C148        C  \n",
            "890      0            370376   7.7500   NaN        Q  \n",
            "\n",
            "[891 rows x 12 columns]\n"
          ]
        }
      ],
      "source": [
        "import pandas as pd\n",
        "file_name = \"/content/Titanic-Dataset.csv\"\n",
        "df = pd.read_csv(file_name)\n",
        "print(df)"
      ]
    },
    {
      "cell_type": "code",
      "source": [
        "print(df.head(5))"
      ],
      "metadata": {
        "id": "E2eRDRK797GY",
        "colab": {
          "base_uri": "https://localhost:8080/"
        },
        "outputId": "5013b136-604c-4fbd-c866-1a0ca0f2a98a"
      },
      "execution_count": 6,
      "outputs": [
        {
          "output_type": "stream",
          "name": "stdout",
          "text": [
            "   PassengerId  Survived  Pclass  \\\n",
            "0            1         0       3   \n",
            "1            2         1       1   \n",
            "2            3         1       3   \n",
            "3            4         1       1   \n",
            "4            5         0       3   \n",
            "\n",
            "                                                Name     Sex   Age  SibSp  \\\n",
            "0                            Braund, Mr. Owen Harris    male  22.0      1   \n",
            "1  Cumings, Mrs. John Bradley (Florence Briggs Th...  female  38.0      1   \n",
            "2                             Heikkinen, Miss. Laina  female  26.0      0   \n",
            "3       Futrelle, Mrs. Jacques Heath (Lily May Peel)  female  35.0      1   \n",
            "4                           Allen, Mr. William Henry    male  35.0      0   \n",
            "\n",
            "   Parch            Ticket     Fare Cabin Embarked  \n",
            "0      0         A/5 21171   7.2500   NaN        S  \n",
            "1      0          PC 17599  71.2833   C85        C  \n",
            "2      0  STON/O2. 3101282   7.9250   NaN        S  \n",
            "3      0            113803  53.1000  C123        S  \n",
            "4      0            373450   8.0500   NaN        S  \n"
          ]
        }
      ]
    },
    {
      "cell_type": "code",
      "source": [
        "import pandas as pd\n",
        "df_cleaned = df.copy()\n",
        "columns_to_drop = ['Cabin', 'PassengerId', 'Name', 'Ticket']\n",
        "df_cleaned = df_cleaned.drop(columns=columns_to_drop)"
      ],
      "metadata": {
        "id": "Mp8yTbSV99SK"
      },
      "execution_count": 7,
      "outputs": []
    },
    {
      "cell_type": "code",
      "source": [
        "median_age = df_cleaned['Age'].median()\n",
        "df_cleaned['Age'].fillna(median_age, inplace=True)"
      ],
      "metadata": {
        "id": "77WGZisO-WPc",
        "colab": {
          "base_uri": "https://localhost:8080/"
        },
        "outputId": "a3cc1f95-049b-4568-9600-3f4df816d9e1"
      },
      "execution_count": 8,
      "outputs": [
        {
          "output_type": "stream",
          "name": "stderr",
          "text": [
            "/tmp/ipython-input-3388924918.py:2: FutureWarning: A value is trying to be set on a copy of a DataFrame or Series through chained assignment using an inplace method.\n",
            "The behavior will change in pandas 3.0. This inplace method will never work because the intermediate object on which we are setting values always behaves as a copy.\n",
            "\n",
            "For example, when doing 'df[col].method(value, inplace=True)', try using 'df.method({col: value}, inplace=True)' or df[col] = df[col].method(value) instead, to perform the operation inplace on the original object.\n",
            "\n",
            "\n",
            "  df_cleaned['Age'].fillna(median_age, inplace=True)\n"
          ]
        }
      ]
    },
    {
      "cell_type": "code",
      "source": [
        "mode_embarked = df_cleaned['Embarked'].mode()[0]\n",
        "df_cleaned['Embarked'].fillna(mode_embarked, inplace=True)"
      ],
      "metadata": {
        "id": "JumkyWLw_Qen",
        "colab": {
          "base_uri": "https://localhost:8080/"
        },
        "outputId": "7b353b18-4048-4eee-fd64-00e4083f370a"
      },
      "execution_count": 9,
      "outputs": [
        {
          "output_type": "stream",
          "name": "stderr",
          "text": [
            "/tmp/ipython-input-864851345.py:2: FutureWarning: A value is trying to be set on a copy of a DataFrame or Series through chained assignment using an inplace method.\n",
            "The behavior will change in pandas 3.0. This inplace method will never work because the intermediate object on which we are setting values always behaves as a copy.\n",
            "\n",
            "For example, when doing 'df[col].method(value, inplace=True)', try using 'df.method({col: value}, inplace=True)' or df[col] = df[col].method(value) instead, to perform the operation inplace on the original object.\n",
            "\n",
            "\n",
            "  df_cleaned['Embarked'].fillna(mode_embarked, inplace=True)\n"
          ]
        }
      ]
    },
    {
      "cell_type": "code",
      "source": [
        "print(\"Missing Value Check\")\n",
        "print(df_cleaned.isnull().sum())"
      ],
      "metadata": {
        "id": "CYrH-4PI_WoF",
        "colab": {
          "base_uri": "https://localhost:8080/"
        },
        "outputId": "aa2c1945-1858-4ac2-bc34-afe0b0440336"
      },
      "execution_count": 10,
      "outputs": [
        {
          "output_type": "stream",
          "name": "stdout",
          "text": [
            "Missing Value Check\n",
            "Survived    0\n",
            "Pclass      0\n",
            "Sex         0\n",
            "Age         0\n",
            "SibSp       0\n",
            "Parch       0\n",
            "Fare        0\n",
            "Embarked    0\n",
            "dtype: int64\n"
          ]
        }
      ]
    },
    {
      "cell_type": "code",
      "source": [
        "df_cleaned['Sex'] = df_cleaned['Sex'].map({'male': 0, 'female': 1})"
      ],
      "metadata": {
        "id": "1mwMNlTI_deN"
      },
      "execution_count": 11,
      "outputs": []
    },
    {
      "cell_type": "code",
      "source": [
        "df_cleaned = pd.get_dummies(df_cleaned, columns=['Embarked'], drop_first=True, prefix='Embarked')"
      ],
      "metadata": {
        "id": "OY_AzAYa_lEW"
      },
      "execution_count": 12,
      "outputs": []
    },
    {
      "cell_type": "code",
      "source": [
        "print(\"Prepared Data Head\")\n",
        "print(df_cleaned)"
      ],
      "metadata": {
        "id": "xiH4KDtT_qQN",
        "colab": {
          "base_uri": "https://localhost:8080/"
        },
        "outputId": "2b357b43-e503-44cf-daa3-cfd7fb206a46"
      },
      "execution_count": 13,
      "outputs": [
        {
          "output_type": "stream",
          "name": "stdout",
          "text": [
            "Prepared Data Head\n",
            "     Survived  Pclass  Sex   Age  SibSp  Parch     Fare  Embarked_Q  \\\n",
            "0           0       3    0  22.0      1      0   7.2500       False   \n",
            "1           1       1    1  38.0      1      0  71.2833       False   \n",
            "2           1       3    1  26.0      0      0   7.9250       False   \n",
            "3           1       1    1  35.0      1      0  53.1000       False   \n",
            "4           0       3    0  35.0      0      0   8.0500       False   \n",
            "..        ...     ...  ...   ...    ...    ...      ...         ...   \n",
            "886         0       2    0  27.0      0      0  13.0000       False   \n",
            "887         1       1    1  19.0      0      0  30.0000       False   \n",
            "888         0       3    1  28.0      1      2  23.4500       False   \n",
            "889         1       1    0  26.0      0      0  30.0000       False   \n",
            "890         0       3    0  32.0      0      0   7.7500        True   \n",
            "\n",
            "     Embarked_S  \n",
            "0          True  \n",
            "1         False  \n",
            "2          True  \n",
            "3          True  \n",
            "4          True  \n",
            "..          ...  \n",
            "886        True  \n",
            "887        True  \n",
            "888        True  \n",
            "889       False  \n",
            "890       False  \n",
            "\n",
            "[891 rows x 9 columns]\n"
          ]
        }
      ]
    },
    {
      "cell_type": "code",
      "source": [
        "print(df_cleaned.head(5))"
      ],
      "metadata": {
        "id": "faGL2Oqj_wfL",
        "colab": {
          "base_uri": "https://localhost:8080/"
        },
        "outputId": "d9e4e1f9-9d97-46cf-f102-62259f90616b"
      },
      "execution_count": 14,
      "outputs": [
        {
          "output_type": "stream",
          "name": "stdout",
          "text": [
            "   Survived  Pclass  Sex   Age  SibSp  Parch     Fare  Embarked_Q  Embarked_S\n",
            "0         0       3    0  22.0      1      0   7.2500       False        True\n",
            "1         1       1    1  38.0      1      0  71.2833       False       False\n",
            "2         1       3    1  26.0      0      0   7.9250       False        True\n",
            "3         1       1    1  35.0      1      0  53.1000       False        True\n",
            "4         0       3    0  35.0      0      0   8.0500       False        True\n"
          ]
        }
      ]
    },
    {
      "cell_type": "code",
      "source": [
        "print(\"Final Data Types\")\n",
        "df_cleaned.info()"
      ],
      "metadata": {
        "id": "sL-cRHrh_2of",
        "colab": {
          "base_uri": "https://localhost:8080/"
        },
        "outputId": "984e5b1c-d757-4c5b-bf8e-3f57279f408e"
      },
      "execution_count": 15,
      "outputs": [
        {
          "output_type": "stream",
          "name": "stdout",
          "text": [
            "Final Data Types\n",
            "<class 'pandas.core.frame.DataFrame'>\n",
            "RangeIndex: 891 entries, 0 to 890\n",
            "Data columns (total 9 columns):\n",
            " #   Column      Non-Null Count  Dtype  \n",
            "---  ------      --------------  -----  \n",
            " 0   Survived    891 non-null    int64  \n",
            " 1   Pclass      891 non-null    int64  \n",
            " 2   Sex         891 non-null    int64  \n",
            " 3   Age         891 non-null    float64\n",
            " 4   SibSp       891 non-null    int64  \n",
            " 5   Parch       891 non-null    int64  \n",
            " 6   Fare        891 non-null    float64\n",
            " 7   Embarked_Q  891 non-null    bool   \n",
            " 8   Embarked_S  891 non-null    bool   \n",
            "dtypes: bool(2), float64(2), int64(5)\n",
            "memory usage: 50.6 KB\n"
          ]
        }
      ]
    },
    {
      "cell_type": "code",
      "source": [
        "from sklearn.model_selection import train_test_split\n",
        "from sklearn.preprocessing import StandardScaler"
      ],
      "metadata": {
        "id": "Y2giqRf0_8VQ"
      },
      "execution_count": 16,
      "outputs": []
    },
    {
      "cell_type": "code",
      "source": [
        "X = df_cleaned.drop('Survived', axis=1)\n",
        "y = df_cleaned['Survived']"
      ],
      "metadata": {
        "id": "E3YScVv2f-Ep"
      },
      "execution_count": 17,
      "outputs": []
    },
    {
      "cell_type": "code",
      "source": [
        "scaler = StandardScaler()\n",
        "X_scaled = X.copy()"
      ],
      "metadata": {
        "id": "d3auSLhkf_tW"
      },
      "execution_count": 18,
      "outputs": []
    },
    {
      "cell_type": "code",
      "source": [
        "numerical_cols = ['Pclass', 'Age', 'SibSp', 'Parch', 'Fare']"
      ],
      "metadata": {
        "id": "0pxv4TnbgEWi"
      },
      "execution_count": 19,
      "outputs": []
    },
    {
      "cell_type": "code",
      "source": [
        "X_scaled[numerical_cols] = scaler.fit_transform(X_scaled[numerical_cols])"
      ],
      "metadata": {
        "id": "F8tRO4U_gQYB"
      },
      "execution_count": 20,
      "outputs": []
    },
    {
      "cell_type": "code",
      "source": [
        "print(\"Scaled Features Head\")\n",
        "print(X_scaled)"
      ],
      "metadata": {
        "id": "Zbj4JxyWgctx",
        "colab": {
          "base_uri": "https://localhost:8080/"
        },
        "outputId": "5406ef1f-a1ee-4430-8a6e-6abe4e6590cf"
      },
      "execution_count": 21,
      "outputs": [
        {
          "output_type": "stream",
          "name": "stdout",
          "text": [
            "Scaled Features Head\n",
            "       Pclass  Sex       Age     SibSp     Parch      Fare  Embarked_Q  \\\n",
            "0    0.827377    0 -0.565736  0.432793 -0.473674 -0.502445       False   \n",
            "1   -1.566107    1  0.663861  0.432793 -0.473674  0.786845       False   \n",
            "2    0.827377    1 -0.258337 -0.474545 -0.473674 -0.488854       False   \n",
            "3   -1.566107    1  0.433312  0.432793 -0.473674  0.420730       False   \n",
            "4    0.827377    0  0.433312 -0.474545 -0.473674 -0.486337       False   \n",
            "..        ...  ...       ...       ...       ...       ...         ...   \n",
            "886 -0.369365    0 -0.181487 -0.474545 -0.473674 -0.386671       False   \n",
            "887 -1.566107    1 -0.796286 -0.474545 -0.473674 -0.044381       False   \n",
            "888  0.827377    1 -0.104637  0.432793  2.008933 -0.176263       False   \n",
            "889 -1.566107    0 -0.258337 -0.474545 -0.473674 -0.044381       False   \n",
            "890  0.827377    0  0.202762 -0.474545 -0.473674 -0.492378        True   \n",
            "\n",
            "     Embarked_S  \n",
            "0          True  \n",
            "1         False  \n",
            "2          True  \n",
            "3          True  \n",
            "4          True  \n",
            "..          ...  \n",
            "886        True  \n",
            "887        True  \n",
            "888        True  \n",
            "889       False  \n",
            "890       False  \n",
            "\n",
            "[891 rows x 8 columns]\n"
          ]
        }
      ]
    },
    {
      "cell_type": "code",
      "source": [
        "print(X_scaled.head(5))"
      ],
      "metadata": {
        "id": "jW8f5WKbgun5",
        "colab": {
          "base_uri": "https://localhost:8080/"
        },
        "outputId": "e57cc4e9-2c3d-4c8f-b8f4-71b104c882f1"
      },
      "execution_count": 22,
      "outputs": [
        {
          "output_type": "stream",
          "name": "stdout",
          "text": [
            "     Pclass  Sex       Age     SibSp     Parch      Fare  Embarked_Q  \\\n",
            "0  0.827377    0 -0.565736  0.432793 -0.473674 -0.502445       False   \n",
            "1 -1.566107    1  0.663861  0.432793 -0.473674  0.786845       False   \n",
            "2  0.827377    1 -0.258337 -0.474545 -0.473674 -0.488854       False   \n",
            "3 -1.566107    1  0.433312  0.432793 -0.473674  0.420730       False   \n",
            "4  0.827377    0  0.433312 -0.474545 -0.473674 -0.486337       False   \n",
            "\n",
            "   Embarked_S  \n",
            "0        True  \n",
            "1       False  \n",
            "2        True  \n",
            "3        True  \n",
            "4        True  \n"
          ]
        }
      ]
    },
    {
      "cell_type": "code",
      "source": [
        "import matplotlib.pyplot as plt\n",
        "print(\"Boxplots for outlier visualization\")\n",
        "plt.figure(figsize=(12, 8))\n",
        "for i, col in enumerate(numerical_cols):\n",
        "    plt.subplot(2, 3, i + 1)\n",
        "    plt.boxplot(X_scaled[col])\n",
        "    plt.title(f'Boxplot of Scaled {col}', fontsize=10)\n",
        "    plt.ylabel('Scaled Value')\n",
        "plt.tight_layout()\n",
        "plt.savefig(\"outlier_boxplots.png\")\n",
        "plt.show()"
      ],
      "metadata": {
        "id": "zIJGj1d-jHza",
        "colab": {
          "base_uri": "https://localhost:8080/",
          "height": 824
        },
        "outputId": "17d915b0-c88d-4e06-cdc3-ca1a5b7cd1af"
      },
      "execution_count": 23,
      "outputs": [
        {
          "output_type": "stream",
          "name": "stdout",
          "text": [
            "Boxplots for outlier visualization\n"
          ]
        },
        {
          "output_type": "display_data",
          "data": {
            "text/plain": [
              "<Figure size 1200x800 with 5 Axes>"
            ],
            "image/png": "[encoded data removed]"
          },
          "metadata": {}
        }
      ]
    },
    {
      "cell_type": "code",
      "source": [
        "def remove_outliers_iqr(df, target, columns):\n",
        "    df_out = df.copy()\n",
        "    df_out['Survived'] = target.values\n",
        "    initial_count = len(df_out)\n",
        "    for col in columns:\n",
        "        Q1 = df_out[col].quantile(0.25)\n",
        "        Q3 = df_out[col].quantile(0.75)\n",
        "        IQR = Q3 - Q1\n",
        "        lower_bound = Q1 - 1.5 * IQR\n",
        "        upper_bound = Q3 + 1.5 * IQR\n",
        "        df_out = df_out[(df_out[col] >= lower_bound) & (df_out[col] <= upper_bound)]\n",
        "    removed_count = initial_count - len(df_out)\n",
        "    print(f\"Total rows removed due to outliers: {removed_count} (New total: {len(df_out)})\")\n",
        "    X_final = df_out.drop('Survived', axis=1)\n",
        "    y_final = df_out['Survived']\n",
        "    return X_final, y_final"
      ],
      "metadata": {
        "id": "PTrT1ZfbhMJA"
      },
      "execution_count": 24,
      "outputs": []
    },
    {
      "cell_type": "code",
      "source": [
        "X_final, y_final = remove_outliers_iqr(X_scaled, y, numerical_cols)"
      ],
      "metadata": {
        "id": "tzwm8uuyhih5",
        "colab": {
          "base_uri": "https://localhost:8080/"
        },
        "outputId": "bd9d0dfe-b76f-47ce-93f2-3671a2d1ac63"
      },
      "execution_count": 25,
      "outputs": [
        {
          "output_type": "stream",
          "name": "stdout",
          "text": [
            "Total rows removed due to outliers: 330 (New total: 561)\n"
          ]
        }
      ]
    },
    {
      "cell_type": "code",
      "source": [
        "X_train, X_test, y_train, y_test = train_test_split(X_final, y_final, test_size=0.2, random_state=42)"
      ],
      "metadata": {
        "id": "y4LhFOVfhmLW"
      },
      "execution_count": 26,
      "outputs": []
    },
    {
      "cell_type": "code",
      "source": [
        "print(\"Data Splitting\")\n",
        "print(f\"Total Final Dataset Size: {X_final.shape[0]}\")\n",
        "print(f\"Training Features (X_train) size: {X_train.shape}\")\n",
        "print(f\"Testing Features (X_test) size: {X_test.shape}\")"
      ],
      "metadata": {
        "id": "6rxU7ijIiBH_",
        "colab": {
          "base_uri": "https://localhost:8080/"
        },
        "outputId": "9de56852-2d13-45ca-f0ac-334333d29ade"
      },
      "execution_count": 27,
      "outputs": [
        {
          "output_type": "stream",
          "name": "stdout",
          "text": [
            "Data Splitting\n",
            "Total Final Dataset Size: 561\n",
            "Training Features (X_train) size: (448, 8)\n",
            "Testing Features (X_test) size: (113, 8)\n"
          ]
        }
      ]
    }
  ]
}